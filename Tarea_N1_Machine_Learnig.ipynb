{
 "cells": [
  {
   "cell_type": "markdown",
   "id": "5e61ef3d",
   "metadata": {},
   "source": [
    "# Tarea: Modelos lineales, regularización y selección de modelos en datos reales"
   ]
  },
  {
   "cell_type": "markdown",
   "id": "612a0e76",
   "metadata": {},
   "source": [
    "## Parte A: Parte A. Regresión lineal desde cero\n"
   ]
  },
  {
   "cell_type": "code",
   "execution_count": null,
   "id": "7e730be4",
   "metadata": {},
   "outputs": [],
   "source": []
  }
 ],
 "metadata": {
  "kernelspec": {
   "display_name": "Python 3",
   "language": "python",
   "name": "python3"
  },
  "language_info": {
   "name": "python",
   "version": "3.13.7"
  }
 },
 "nbformat": 4,
 "nbformat_minor": 5
}
